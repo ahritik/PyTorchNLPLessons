{
 "cells": [
  {
   "cell_type": "markdown",
   "id": "36fef2bf",
   "metadata": {},
   "source": [
    "# Natural Language Processing in Python\n",
    "\n",
    "## Chapter 8. Advanced Sequence Modeling for Natural Language Processing"
   ]
  },
  {
   "cell_type": "markdown",
   "metadata": {},
   "source": [
    "### Sequence-to-Sequence Models, Encoder–Decoder Models, and Conditioned Generation\n",
    "\n",
    "**Sequence-­to-Ssequence** (S2S) models are a special case of a general family of models called encoder–decoder models which are made of an encoder and a decoder, both of which are simultaneously trained. The encoder captures important properties of the input with respect to the task at hand and the decoder takes the encoded input to produce a desired output. The encoder–decoder model is a general framework for many tasks, including machine translation, image captioning, and text summarization. \n"
   ]
  }
 ],
 "metadata": {
  "kernelspec": {
   "display_name": "Python 3 (ipykernel)",
   "language": "python",
   "name": "python3"
  },
  "language_info": {
   "codemirror_mode": {
    "name": "ipython",
    "version": 3
   },
   "file_extension": ".py",
   "mimetype": "text/x-python",
   "name": "python",
   "nbconvert_exporter": "python",
   "pygments_lexer": "ipython3",
   "version": "3.8.13"
  },
  "vscode": {
   "interpreter": {
    "hash": "ab38ba5a85f824e0e94e6624e7a64cd97870a0e2c6bf30b3938e8e97633cfae6"
   }
  }
 },
 "nbformat": 4,
 "nbformat_minor": 2
}
